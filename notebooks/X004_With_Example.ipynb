{
 "cells": [
  {
   "cell_type": "code",
   "execution_count": 1,
   "metadata": {},
   "outputs": [],
   "source": [
    "import pandas as pd"
   ]
  },
  {
   "cell_type": "code",
   "execution_count": 2,
   "metadata": {},
   "outputs": [],
   "source": [
    "def fetch_results(path, model, method):\n",
    "    table = pd.read_csv(path).iloc[100]\n",
    "    table['Model'] = model\n",
    "    table['Method'] = method\n",
    "    return table"
   ]
  },
  {
   "cell_type": "code",
   "execution_count": 3,
   "metadata": {},
   "outputs": [],
   "source": [
    "gpt4_turbo_ft = fetch_results(\"DATA/gpt_4_turbo_w_break_full_table_first_example_20240928-182411/scores_embed_norm_example_100.csv\", \"GPT4-Turbo\", \"Full Table\")\n",
    "gpt4_turbo_rbr = fetch_results(\"DATA/gpt_4_turbo_w_break_row_by_row_first_example_20240928-182415/scores_embed_norm_example_100.csv\", \"GPT4-Turbo\", \"Row-by-Row\")\n",
    "gpt4o_ft = fetch_results(\"DATA/gpt_4o_full_table_first_example_20240927-132528/scores_embed_norm_example_100.csv\", \"GPT-4o\", \"Full Table\")\n",
    "gpt4o_rbr = fetch_results(\"DATA/gpt_4o_row_by_row_first_example_20240927-132533/scores_embed_norm_example_100.csv\", \"GPT-4o\", \"Row-by-Row\")\n",
    "llama70b_ft = fetch_results(\"DATA/Meta_Llama_3.1_70B_Instruct_full_table_first_example_20240922-100716/scores_embed_norm_example_100.csv\", \"LLaMa3.1_70b\", \"Full Table\")\n",
    "llama70b_rbr = fetch_results(\"DATA/Meta_Llama_3.1_70B_Instruct_row_by_row_first_example_20240922-180421/scores_embed_norm_example_100.csv\", \"LLaMa3.1_70b\", \"Row-by-Row\")\n",
    "llama405b_ft = fetch_results(\"DATA/Meta_Llama_3.1_405B_Instruct_full_table_first_example_20240922-101025/scores_embed_norm_example_100.csv\", \"LLaMa3.1_405b\", \"Full Table\")\n",
    "llama405b_rbr = fetch_results(\"DATA/Meta_Llama_3.1_405B_Instruct_row_by_row_first_example_20240922-180729/scores_embed_norm_example_100.csv\", \"LLaMa3.1_405b\", \"Row-by-Row\")"
   ]
  },
  {
   "cell_type": "code",
   "execution_count": 4,
   "metadata": {},
   "outputs": [
    {
     "data": {
      "text/html": [
       "<div>\n",
       "<style scoped>\n",
       "    .dataframe tbody tr th:only-of-type {\n",
       "        vertical-align: middle;\n",
       "    }\n",
       "\n",
       "    .dataframe tbody tr th {\n",
       "        vertical-align: top;\n",
       "    }\n",
       "\n",
       "    .dataframe thead th {\n",
       "        text-align: right;\n",
       "    }\n",
       "</style>\n",
       "<table border=\"1\" class=\"dataframe\">\n",
       "  <thead>\n",
       "    <tr style=\"text-align: right;\">\n",
       "      <th></th>\n",
       "      <th></th>\n",
       "      <th>Keys_F1_Score</th>\n",
       "      <th>Non_Keys_F1_Score</th>\n",
       "      <th>F1_Score</th>\n",
       "    </tr>\n",
       "    <tr>\n",
       "      <th>Model</th>\n",
       "      <th>Method</th>\n",
       "      <th></th>\n",
       "      <th></th>\n",
       "      <th></th>\n",
       "    </tr>\n",
       "  </thead>\n",
       "  <tbody>\n",
       "    <tr>\n",
       "      <th rowspan=\"2\" valign=\"top\">GPT4-Turbo</th>\n",
       "      <th>Full Table</th>\n",
       "      <td>0.518685</td>\n",
       "      <td>0.173664</td>\n",
       "      <td>0.23792</td>\n",
       "    </tr>\n",
       "    <tr>\n",
       "      <th>Row-by-Row</th>\n",
       "      <td>0.541448</td>\n",
       "      <td>0.164448</td>\n",
       "      <td>0.225459</td>\n",
       "    </tr>\n",
       "    <tr>\n",
       "      <th rowspan=\"2\" valign=\"top\">GPT-4o</th>\n",
       "      <th>Full Table</th>\n",
       "      <td>0.471435</td>\n",
       "      <td>0.163042</td>\n",
       "      <td>0.220401</td>\n",
       "    </tr>\n",
       "    <tr>\n",
       "      <th>Row-by-Row</th>\n",
       "      <td>0.532765</td>\n",
       "      <td>0.165475</td>\n",
       "      <td>0.228077</td>\n",
       "    </tr>\n",
       "    <tr>\n",
       "      <th rowspan=\"2\" valign=\"top\">LLaMa3.1_70b</th>\n",
       "      <th>Full Table</th>\n",
       "      <td>0.516082</td>\n",
       "      <td>0.181621</td>\n",
       "      <td>0.241885</td>\n",
       "    </tr>\n",
       "    <tr>\n",
       "      <th>Row-by-Row</th>\n",
       "      <td>0.516426</td>\n",
       "      <td>0.166366</td>\n",
       "      <td>0.224897</td>\n",
       "    </tr>\n",
       "    <tr>\n",
       "      <th rowspan=\"2\" valign=\"top\">LLaMa3.1_405b</th>\n",
       "      <th>Full Table</th>\n",
       "      <td>0.506593</td>\n",
       "      <td>0.251839</td>\n",
       "      <td>0.298324</td>\n",
       "    </tr>\n",
       "    <tr>\n",
       "      <th>Row-by-Row</th>\n",
       "      <td>0.51892</td>\n",
       "      <td>0.199191</td>\n",
       "      <td>0.256275</td>\n",
       "    </tr>\n",
       "  </tbody>\n",
       "</table>\n",
       "</div>"
      ],
      "text/plain": [
       "                         Keys_F1_Score Non_Keys_F1_Score  F1_Score\n",
       "Model         Method                                              \n",
       "GPT4-Turbo    Full Table      0.518685          0.173664   0.23792\n",
       "              Row-by-Row      0.541448          0.164448  0.225459\n",
       "GPT-4o        Full Table      0.471435          0.163042  0.220401\n",
       "              Row-by-Row      0.532765          0.165475  0.228077\n",
       "LLaMa3.1_70b  Full Table      0.516082          0.181621  0.241885\n",
       "              Row-by-Row      0.516426          0.166366  0.224897\n",
       "LLaMa3.1_405b Full Table      0.506593          0.251839  0.298324\n",
       "              Row-by-Row       0.51892          0.199191  0.256275"
      ]
     },
     "execution_count": 4,
     "metadata": {},
     "output_type": "execute_result"
    }
   ],
   "source": [
    "res_df = pd.concat([\n",
    "    gpt4_turbo_ft,\n",
    "    gpt4_turbo_rbr,\n",
    "    gpt4o_ft,\n",
    "    gpt4o_rbr,\n",
    "    llama70b_ft,\n",
    "    llama70b_rbr,\n",
    "    llama405b_ft,\n",
    "    llama405b_rbr\n",
    "], axis=1).drop([\n",
    "    'Table', \n",
    "    'Keys_Recall', 'Keys_Precision', \n",
    "    'Non_Keys_Recall', 'Non_Keys_Precision', 'Rel_Non_Keys_Accuracy',\n",
    "    'Recall', 'Precision'\n",
    "]).T.set_index(['Model', 'Method'])\n",
    "\n",
    "res_df\n"
   ]
  },
  {
   "cell_type": "code",
   "execution_count": 5,
   "metadata": {},
   "outputs": [],
   "source": [
    "res_df.to_csv(\"RESULTS/t2_with_example.csv\")"
   ]
  },
  {
   "cell_type": "code",
   "execution_count": null,
   "metadata": {},
   "outputs": [],
   "source": []
  }
 ],
 "metadata": {
  "kernelspec": {
   "display_name": "Python 3 (ipykernel)",
   "language": "python",
   "name": "python3"
  },
  "language_info": {
   "codemirror_mode": {
    "name": "ipython",
    "version": 3
   },
   "file_extension": ".py",
   "mimetype": "text/x-python",
   "name": "python",
   "nbconvert_exporter": "python",
   "pygments_lexer": "ipython3",
   "version": "3.11.4"
  }
 },
 "nbformat": 4,
 "nbformat_minor": 4
}
