{
 "cells": [
  {
   "cell_type": "code",
   "execution_count": 1,
   "metadata": {},
   "outputs": [],
   "source": [
    "import pandas as pd"
   ]
  },
  {
   "cell_type": "code",
   "execution_count": 2,
   "metadata": {},
   "outputs": [],
   "source": [
    "def fetch_results(path, model, method):\n",
    "    table = pd.read_csv(path).iloc[100]\n",
    "    table['Model'] = model\n",
    "    table['Method'] = method\n",
    "    return table"
   ]
  },
  {
   "cell_type": "code",
   "execution_count": 3,
   "metadata": {},
   "outputs": [],
   "source": [
    "gpt4_turbo_base = fetch_results(\"DATA/gpt_4_turbo_w_break_generic_keys_rows_20240928-130728/scores_100.csv\", \"GPT4-Turbo\", \"Base\")\n",
    "gpt4_turbo_oracle = fetch_results(\"DATA/gpt_4_turbo_w_break_row_by_row_oracle_keys_20240928-222705/scores_100.csv\", \"GPT4-Turbo\", \"Oracle\")\n",
    "gpt4o_base = fetch_results(\"DATA/gpt_4o_generic_keys_rows_20240728-073304/scores_100.csv\", \"GPT-4o\", \"Base\")\n",
    "gpt4o_oracle = fetch_results(\"DATA/gpt_4o_row_by_row_oracle_keys_20240927-134041/scores_100.csv\", \"GPT-4o\", \"Oracle\")\n",
    "llama70b_base = fetch_results(\"DATA/Meta_Llama_3.1_70B_Instruct_generic_keys_rows_20240728-073256/scores_100.csv\", \"LLaMa3.1_70b\", \"Base\")\n",
    "llama70b_oracle = fetch_results(\"DATA/Meta_Llama_3.1_70B_Instruct_row_by_row_oracle_keys_20240923-141203/scores_100.csv\", \"LLaMa3.1_70b\", \"Oracle\")\n",
    "llama405b_base = fetch_results(\"DATA/Meta_Llama_3.1_405B_Instruct_generic_keys_rows_20240913-213247/scores_100.csv\", \"LLaMa3.1_405b\", \"Base\")\n",
    "llama405b_oracle = fetch_results(\"DATA/Meta_Llama_3.1_405B_Instruct_row_by_row_oracle_keys_20240923-141236/scores_100.csv\", \"LLaMa3.1_405b\", \"Oracle\")"
   ]
  },
  {
   "cell_type": "code",
   "execution_count": 4,
   "metadata": {},
   "outputs": [
    {
     "data": {
      "text/html": [
       "<div>\n",
       "<style scoped>\n",
       "    .dataframe tbody tr th:only-of-type {\n",
       "        vertical-align: middle;\n",
       "    }\n",
       "\n",
       "    .dataframe tbody tr th {\n",
       "        vertical-align: top;\n",
       "    }\n",
       "\n",
       "    .dataframe thead th {\n",
       "        text-align: right;\n",
       "    }\n",
       "</style>\n",
       "<table border=\"1\" class=\"dataframe\">\n",
       "  <thead>\n",
       "    <tr style=\"text-align: right;\">\n",
       "      <th></th>\n",
       "      <th></th>\n",
       "      <th>Non_Keys_F1_Score</th>\n",
       "      <th>F1_Score</th>\n",
       "    </tr>\n",
       "    <tr>\n",
       "      <th>Model</th>\n",
       "      <th>Method</th>\n",
       "      <th></th>\n",
       "      <th></th>\n",
       "    </tr>\n",
       "  </thead>\n",
       "  <tbody>\n",
       "    <tr>\n",
       "      <th rowspan=\"2\" valign=\"top\">GPT4-Turbo</th>\n",
       "      <th>Base</th>\n",
       "      <td>0.116909</td>\n",
       "      <td>0.189058</td>\n",
       "    </tr>\n",
       "    <tr>\n",
       "      <th>Oracle</th>\n",
       "      <td>0.229084</td>\n",
       "      <td>0.39173</td>\n",
       "    </tr>\n",
       "    <tr>\n",
       "      <th rowspan=\"2\" valign=\"top\">GPT-4o</th>\n",
       "      <th>Base</th>\n",
       "      <td>0.137961</td>\n",
       "      <td>0.208433</td>\n",
       "    </tr>\n",
       "    <tr>\n",
       "      <th>Oracle</th>\n",
       "      <td>0.260511</td>\n",
       "      <td>0.417128</td>\n",
       "    </tr>\n",
       "    <tr>\n",
       "      <th rowspan=\"2\" valign=\"top\">LLaMa3.1_70b</th>\n",
       "      <th>Base</th>\n",
       "      <td>0.122032</td>\n",
       "      <td>0.190193</td>\n",
       "    </tr>\n",
       "    <tr>\n",
       "      <th>Oracle</th>\n",
       "      <td>0.255769</td>\n",
       "      <td>0.413532</td>\n",
       "    </tr>\n",
       "    <tr>\n",
       "      <th rowspan=\"2\" valign=\"top\">LLaMa3.1_405b</th>\n",
       "      <th>Base</th>\n",
       "      <td>0.140818</td>\n",
       "      <td>0.206672</td>\n",
       "    </tr>\n",
       "    <tr>\n",
       "      <th>Oracle</th>\n",
       "      <td>0.30904</td>\n",
       "      <td>0.454544</td>\n",
       "    </tr>\n",
       "  </tbody>\n",
       "</table>\n",
       "</div>"
      ],
      "text/plain": [
       "                     Non_Keys_F1_Score  F1_Score\n",
       "Model         Method                            \n",
       "GPT4-Turbo    Base            0.116909  0.189058\n",
       "              Oracle          0.229084   0.39173\n",
       "GPT-4o        Base            0.137961  0.208433\n",
       "              Oracle          0.260511  0.417128\n",
       "LLaMa3.1_70b  Base            0.122032  0.190193\n",
       "              Oracle          0.255769  0.413532\n",
       "LLaMa3.1_405b Base            0.140818  0.206672\n",
       "              Oracle           0.30904  0.454544"
      ]
     },
     "execution_count": 4,
     "metadata": {},
     "output_type": "execute_result"
    }
   ],
   "source": [
    "res_df = pd.concat([\n",
    "    gpt4_turbo_base,\n",
    "    gpt4_turbo_oracle,\n",
    "    gpt4o_base,\n",
    "    gpt4o_oracle,\n",
    "    llama70b_base,\n",
    "    llama70b_oracle,\n",
    "    llama405b_base,\n",
    "    llama405b_oracle\n",
    "], axis=1).drop('Table').T.set_index(['Model', 'Method'])[['Non_Keys_F1_Score', 'F1_Score']]\n",
    "\n",
    "res_df\n"
   ]
  },
  {
   "cell_type": "code",
   "execution_count": 5,
   "metadata": {},
   "outputs": [],
   "source": [
    "res_df.to_csv(\"RESULTS/t3_base_n_oracle.csv\")"
   ]
  },
  {
   "cell_type": "code",
   "execution_count": null,
   "metadata": {},
   "outputs": [],
   "source": []
  }
 ],
 "metadata": {
  "kernelspec": {
   "display_name": "Python 3 (ipykernel)",
   "language": "python",
   "name": "python3"
  },
  "language_info": {
   "codemirror_mode": {
    "name": "ipython",
    "version": 3
   },
   "file_extension": ".py",
   "mimetype": "text/x-python",
   "name": "python",
   "nbconvert_exporter": "python",
   "pygments_lexer": "ipython3",
   "version": "3.11.4"
  }
 },
 "nbformat": 4,
 "nbformat_minor": 4
}
