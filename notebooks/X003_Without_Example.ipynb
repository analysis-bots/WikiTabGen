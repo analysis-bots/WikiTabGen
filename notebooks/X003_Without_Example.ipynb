{
 "cells": [
  {
   "cell_type": "code",
   "execution_count": 1,
   "metadata": {},
   "outputs": [],
   "source": [
    "import pandas as pd"
   ]
  },
  {
   "cell_type": "code",
   "execution_count": 2,
   "metadata": {},
   "outputs": [],
   "source": [
    "def fetch_results(path, model, method):\n",
    "    table = pd.read_csv(path).iloc[100]\n",
    "    table['Model'] = model\n",
    "    table['Method'] = method\n",
    "    return table"
   ]
  },
  {
   "cell_type": "code",
   "execution_count": 3,
   "metadata": {},
   "outputs": [],
   "source": [
    "gpt4_turbo_ft = fetch_results(\"DATA/gpt_4_turbo_w_break_full_table_20240928-102819/scores_embed_norm_example_100.csv\", \"GPT4-Turbo\", \"Full Table\")\n",
    "gpt4_turbo_rbr = fetch_results(\"DATA/gpt_4_turbo_w_break_generic_keys_rows_20240928-130728/scores_embed_norm_example_100.csv\", \"GPT4-Turbo\", \"Row-by-Row\")\n",
    "gpt4o_ft = fetch_results(\"DATA/gpt_4o_full_table_20240727-211636/scores_embed_norm_example_100.csv\", \"GPT-4o\", \"Full Table\")\n",
    "gpt4o_rbr = fetch_results(\"DATA/gpt_4o_generic_keys_rows_20240728-073304/scores_embed_norm_example_100.csv\", \"GPT-4o\", \"Row-by-Row\")\n",
    "llama70b_ft = fetch_results(\"DATA/Meta_Llama_3.1_70B_Instruct_full_table_20240726-231535/scores_embed_norm_example_100.csv\", \"LLaMa3.1_70b\", \"Full Table\")\n",
    "llama70b_rbr = fetch_results(\"DATA/Meta_Llama_3.1_70B_Instruct_generic_keys_rows_20240728-073256/scores_embed_norm_example_100.csv\", \"LLaMa3.1_70b\", \"Row-by-Row\")\n",
    "llama405b_ft = fetch_results(\"DATA/Meta_Llama_3.1_405B_Instruct_full_table_20240908-111922/scores_embed_norm_example_100.csv\", \"LLaMa3.1_405b\", \"Full Table\")\n",
    "llama405b_rbr = fetch_results(\"DATA/Meta_Llama_3.1_405B_Instruct_generic_keys_rows_20240913-213247/scores_embed_norm_example_100.csv\", \"LLaMa3.1_405b\", \"Row-by-Row\")"
   ]
  },
  {
   "cell_type": "code",
   "execution_count": 4,
   "metadata": {},
   "outputs": [
    {
     "data": {
      "text/html": [
       "<div>\n",
       "<style scoped>\n",
       "    .dataframe tbody tr th:only-of-type {\n",
       "        vertical-align: middle;\n",
       "    }\n",
       "\n",
       "    .dataframe tbody tr th {\n",
       "        vertical-align: top;\n",
       "    }\n",
       "\n",
       "    .dataframe thead th {\n",
       "        text-align: right;\n",
       "    }\n",
       "</style>\n",
       "<table border=\"1\" class=\"dataframe\">\n",
       "  <thead>\n",
       "    <tr style=\"text-align: right;\">\n",
       "      <th></th>\n",
       "      <th></th>\n",
       "      <th>Keys_F1_Score</th>\n",
       "      <th>Non_Keys_F1_Score</th>\n",
       "      <th>F1_Score</th>\n",
       "    </tr>\n",
       "    <tr>\n",
       "      <th>Model</th>\n",
       "      <th>Method</th>\n",
       "      <th></th>\n",
       "      <th></th>\n",
       "      <th></th>\n",
       "    </tr>\n",
       "  </thead>\n",
       "  <tbody>\n",
       "    <tr>\n",
       "      <th rowspan=\"2\" valign=\"top\">GPT4-Turbo</th>\n",
       "      <th>Full Table</th>\n",
       "      <td>0.463382</td>\n",
       "      <td>0.130453</td>\n",
       "      <td>0.191819</td>\n",
       "    </tr>\n",
       "    <tr>\n",
       "      <th>Row-by-Row</th>\n",
       "      <td>0.529735</td>\n",
       "      <td>0.151059</td>\n",
       "      <td>0.213463</td>\n",
       "    </tr>\n",
       "    <tr>\n",
       "      <th rowspan=\"2\" valign=\"top\">GPT-4o</th>\n",
       "      <th>Full Table</th>\n",
       "      <td>0.39715</td>\n",
       "      <td>0.126282</td>\n",
       "      <td>0.176771</td>\n",
       "    </tr>\n",
       "    <tr>\n",
       "      <th>Row-by-Row</th>\n",
       "      <td>0.533372</td>\n",
       "      <td>0.166642</td>\n",
       "      <td>0.229351</td>\n",
       "    </tr>\n",
       "    <tr>\n",
       "      <th rowspan=\"2\" valign=\"top\">LLaMa3.1_70b</th>\n",
       "      <th>Full Table</th>\n",
       "      <td>0.49369</td>\n",
       "      <td>0.155311</td>\n",
       "      <td>0.215834</td>\n",
       "    </tr>\n",
       "    <tr>\n",
       "      <th>Row-by-Row</th>\n",
       "      <td>0.495524</td>\n",
       "      <td>0.139934</td>\n",
       "      <td>0.202146</td>\n",
       "    </tr>\n",
       "    <tr>\n",
       "      <th rowspan=\"2\" valign=\"top\">LLaMa3.1_405b</th>\n",
       "      <th>Full Table</th>\n",
       "      <td>0.478684</td>\n",
       "      <td>0.191947</td>\n",
       "      <td>0.247173</td>\n",
       "    </tr>\n",
       "    <tr>\n",
       "      <th>Row-by-Row</th>\n",
       "      <td>0.510321</td>\n",
       "      <td>0.155077</td>\n",
       "      <td>0.215794</td>\n",
       "    </tr>\n",
       "  </tbody>\n",
       "</table>\n",
       "</div>"
      ],
      "text/plain": [
       "                         Keys_F1_Score Non_Keys_F1_Score  F1_Score\n",
       "Model         Method                                              \n",
       "GPT4-Turbo    Full Table      0.463382          0.130453  0.191819\n",
       "              Row-by-Row      0.529735          0.151059  0.213463\n",
       "GPT-4o        Full Table       0.39715          0.126282  0.176771\n",
       "              Row-by-Row      0.533372          0.166642  0.229351\n",
       "LLaMa3.1_70b  Full Table       0.49369          0.155311  0.215834\n",
       "              Row-by-Row      0.495524          0.139934  0.202146\n",
       "LLaMa3.1_405b Full Table      0.478684          0.191947  0.247173\n",
       "              Row-by-Row      0.510321          0.155077  0.215794"
      ]
     },
     "execution_count": 4,
     "metadata": {},
     "output_type": "execute_result"
    }
   ],
   "source": [
    "res_df = pd.concat([\n",
    "    gpt4_turbo_ft,\n",
    "    gpt4_turbo_rbr,\n",
    "    gpt4o_ft,\n",
    "    gpt4o_rbr,\n",
    "    llama70b_ft,\n",
    "    llama70b_rbr,\n",
    "    llama405b_ft,\n",
    "    llama405b_rbr\n",
    "], axis=1).drop([\n",
    "    'Table', \n",
    "    'Keys_Recall', 'Keys_Precision', \n",
    "    'Non_Keys_Recall', 'Non_Keys_Precision', 'Rel_Non_Keys_Accuracy',\n",
    "    'Recall', 'Precision'\n",
    "]).T.set_index(['Model', 'Method'])\n",
    "\n",
    "res_df\n"
   ]
  },
  {
   "cell_type": "code",
   "execution_count": 5,
   "metadata": {},
   "outputs": [],
   "source": [
    "res_df.to_csv(\"RESULTS/t2_without_example.csv\")"
   ]
  },
  {
   "cell_type": "code",
   "execution_count": null,
   "metadata": {},
   "outputs": [],
   "source": []
  }
 ],
 "metadata": {
  "kernelspec": {
   "display_name": "Python 3 (ipykernel)",
   "language": "python",
   "name": "python3"
  },
  "language_info": {
   "codemirror_mode": {
    "name": "ipython",
    "version": 3
   },
   "file_extension": ".py",
   "mimetype": "text/x-python",
   "name": "python",
   "nbconvert_exporter": "python",
   "pygments_lexer": "ipython3",
   "version": "3.11.4"
  }
 },
 "nbformat": 4,
 "nbformat_minor": 4
}
